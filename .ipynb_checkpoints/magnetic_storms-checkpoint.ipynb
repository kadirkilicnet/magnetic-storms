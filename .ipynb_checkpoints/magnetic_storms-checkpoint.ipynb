{
 "cells": [
  {
   "cell_type": "markdown",
   "metadata": {},
   "source": [
    "# Magnetic Storms"
   ]
  },
  {
   "cell_type": "markdown",
   "metadata": {},
   "source": [
    "#### Spacecraft"
   ]
  },
  {
   "cell_type": "markdown",
   "metadata": {},
   "source": [
    "Wind"
   ]
  },
  {
   "cell_type": "markdown",
   "metadata": {},
   "source": [
    "#### Time Interval"
   ]
  },
  {
   "cell_type": "markdown",
   "metadata": {},
   "source": [
    "2014.01.07"
   ]
  },
  {
   "cell_type": "code",
   "execution_count": 1,
   "metadata": {},
   "outputs": [],
   "source": [
    "import pandas as pd\n",
    "import numpy as np\n",
    "import matplotlib.pyplot as plt\n",
    "import matplotlib.ticker as ticker\n",
    "import math"
   ]
  },
  {
   "cell_type": "markdown",
   "metadata": {},
   "source": [
    "### Importing Data"
   ]
  },
  {
   "cell_type": "code",
   "execution_count": 2,
   "metadata": {
    "scrolled": false
   },
   "outputs": [
    {
     "data": {
      "text/html": [
       "<div>\n",
       "<style scoped>\n",
       "    .dataframe tbody tr th:only-of-type {\n",
       "        vertical-align: middle;\n",
       "    }\n",
       "\n",
       "    .dataframe tbody tr th {\n",
       "        vertical-align: top;\n",
       "    }\n",
       "\n",
       "    .dataframe thead th {\n",
       "        text-align: right;\n",
       "    }\n",
       "</style>\n",
       "<table border=\"1\" class=\"dataframe\">\n",
       "  <thead>\n",
       "    <tr style=\"text-align: right;\">\n",
       "      <th></th>\n",
       "      <th>DATE</th>\n",
       "      <th>TIME</th>\n",
       "      <th>B</th>\n",
       "      <th>BX</th>\n",
       "      <th>BY</th>\n",
       "      <th>BZ</th>\n",
       "    </tr>\n",
       "  </thead>\n",
       "  <tbody>\n",
       "    <tr>\n",
       "      <td>0</td>\n",
       "      <td>2014-01-06</td>\n",
       "      <td>23:00:30.000</td>\n",
       "      <td>2.72799</td>\n",
       "      <td>0.524188</td>\n",
       "      <td>1.430380</td>\n",
       "      <td>-1.95577</td>\n",
       "    </tr>\n",
       "    <tr>\n",
       "      <td>1</td>\n",
       "      <td>2014-01-06</td>\n",
       "      <td>23:01:30.000</td>\n",
       "      <td>2.69176</td>\n",
       "      <td>1.342760</td>\n",
       "      <td>1.765980</td>\n",
       "      <td>-1.40528</td>\n",
       "    </tr>\n",
       "    <tr>\n",
       "      <td>2</td>\n",
       "      <td>2014-01-06</td>\n",
       "      <td>23:02:30.000</td>\n",
       "      <td>2.47247</td>\n",
       "      <td>0.928431</td>\n",
       "      <td>1.536690</td>\n",
       "      <td>-1.30666</td>\n",
       "    </tr>\n",
       "    <tr>\n",
       "      <td>3</td>\n",
       "      <td>2014-01-06</td>\n",
       "      <td>23:03:30.000</td>\n",
       "      <td>2.32116</td>\n",
       "      <td>-0.395015</td>\n",
       "      <td>0.914990</td>\n",
       "      <td>-1.98637</td>\n",
       "    </tr>\n",
       "    <tr>\n",
       "      <td>4</td>\n",
       "      <td>2014-01-06</td>\n",
       "      <td>23:04:30.000</td>\n",
       "      <td>2.32005</td>\n",
       "      <td>-0.438720</td>\n",
       "      <td>0.966205</td>\n",
       "      <td>-2.05347</td>\n",
       "    </tr>\n",
       "    <tr>\n",
       "      <td>...</td>\n",
       "      <td>...</td>\n",
       "      <td>...</td>\n",
       "      <td>...</td>\n",
       "      <td>...</td>\n",
       "      <td>...</td>\n",
       "      <td>...</td>\n",
       "    </tr>\n",
       "    <tr>\n",
       "      <td>1376</td>\n",
       "      <td>2014-01-07</td>\n",
       "      <td>21:56:30.000</td>\n",
       "      <td>7.58869</td>\n",
       "      <td>-6.725740</td>\n",
       "      <td>2.144720</td>\n",
       "      <td>-2.78072</td>\n",
       "    </tr>\n",
       "    <tr>\n",
       "      <td>1377</td>\n",
       "      <td>2014-01-07</td>\n",
       "      <td>21:57:30.000</td>\n",
       "      <td>7.46891</td>\n",
       "      <td>-6.433620</td>\n",
       "      <td>2.213750</td>\n",
       "      <td>-3.07490</td>\n",
       "    </tr>\n",
       "    <tr>\n",
       "      <td>1378</td>\n",
       "      <td>2014-01-07</td>\n",
       "      <td>21:58:30.000</td>\n",
       "      <td>7.62855</td>\n",
       "      <td>-6.513440</td>\n",
       "      <td>2.159630</td>\n",
       "      <td>-3.33148</td>\n",
       "    </tr>\n",
       "    <tr>\n",
       "      <td>1379</td>\n",
       "      <td>2014-01-07</td>\n",
       "      <td>21:59:30.000</td>\n",
       "      <td>7.56372</td>\n",
       "      <td>-6.459360</td>\n",
       "      <td>2.126970</td>\n",
       "      <td>-3.30678</td>\n",
       "    </tr>\n",
       "    <tr>\n",
       "      <td>1380</td>\n",
       "      <td>2014-01-07</td>\n",
       "      <td>22:00:30.000</td>\n",
       "      <td>7.45531</td>\n",
       "      <td>-6.384800</td>\n",
       "      <td>2.041900</td>\n",
       "      <td>-3.26087</td>\n",
       "    </tr>\n",
       "  </tbody>\n",
       "</table>\n",
       "<p>1381 rows × 6 columns</p>\n",
       "</div>"
      ],
      "text/plain": [
       "           DATE          TIME        B        BX        BY       BZ\n",
       "0    2014-01-06  23:00:30.000  2.72799  0.524188  1.430380 -1.95577\n",
       "1    2014-01-06  23:01:30.000  2.69176  1.342760  1.765980 -1.40528\n",
       "2    2014-01-06  23:02:30.000  2.47247  0.928431  1.536690 -1.30666\n",
       "3    2014-01-06  23:03:30.000  2.32116 -0.395015  0.914990 -1.98637\n",
       "4    2014-01-06  23:04:30.000  2.32005 -0.438720  0.966205 -2.05347\n",
       "...         ...           ...      ...       ...       ...      ...\n",
       "1376 2014-01-07  21:56:30.000  7.58869 -6.725740  2.144720 -2.78072\n",
       "1377 2014-01-07  21:57:30.000  7.46891 -6.433620  2.213750 -3.07490\n",
       "1378 2014-01-07  21:58:30.000  7.62855 -6.513440  2.159630 -3.33148\n",
       "1379 2014-01-07  21:59:30.000  7.56372 -6.459360  2.126970 -3.30678\n",
       "1380 2014-01-07  22:00:30.000  7.45531 -6.384800  2.041900 -3.26087\n",
       "\n",
       "[1381 rows x 6 columns]"
      ]
     },
     "execution_count": 2,
     "metadata": {},
     "output_type": "execute_result"
    }
   ],
   "source": [
    "magnetic = pd.read_excel('data/magnetic.xlsx') # Magnetic Field Data in nT from CDAWEB\n",
    "magnetic.head(-59)"
   ]
  },
  {
   "cell_type": "code",
   "execution_count": 3,
   "metadata": {
    "scrolled": true
   },
   "outputs": [
    {
     "data": {
      "text/html": [
       "<div>\n",
       "<style scoped>\n",
       "    .dataframe tbody tr th:only-of-type {\n",
       "        vertical-align: middle;\n",
       "    }\n",
       "\n",
       "    .dataframe tbody tr th {\n",
       "        vertical-align: top;\n",
       "    }\n",
       "\n",
       "    .dataframe thead th {\n",
       "        text-align: right;\n",
       "    }\n",
       "</style>\n",
       "<table border=\"1\" class=\"dataframe\">\n",
       "  <thead>\n",
       "    <tr style=\"text-align: right;\">\n",
       "      <th></th>\n",
       "      <th>DATE</th>\n",
       "      <th>TIME</th>\n",
       "      <th>SW_VTH</th>\n",
       "      <th>ION_NP</th>\n",
       "      <th>VX_(GSM)</th>\n",
       "      <th>VY_(GSM)</th>\n",
       "      <th>VZ_(GSM)</th>\n",
       "    </tr>\n",
       "  </thead>\n",
       "  <tbody>\n",
       "    <tr>\n",
       "      <td>0</td>\n",
       "      <td>2014-01-06</td>\n",
       "      <td>23:00:14.484</td>\n",
       "      <td>30.0924</td>\n",
       "      <td>4.28709</td>\n",
       "      <td>-355.936</td>\n",
       "      <td>-6.42950</td>\n",
       "      <td>11.28900</td>\n",
       "    </tr>\n",
       "    <tr>\n",
       "      <td>1</td>\n",
       "      <td>2014-01-06</td>\n",
       "      <td>23:01:51.578</td>\n",
       "      <td>27.1823</td>\n",
       "      <td>3.19790</td>\n",
       "      <td>-370.943</td>\n",
       "      <td>-16.14380</td>\n",
       "      <td>-7.73532</td>\n",
       "    </tr>\n",
       "    <tr>\n",
       "      <td>2</td>\n",
       "      <td>2014-01-06</td>\n",
       "      <td>23:03:19.289</td>\n",
       "      <td>20.4928</td>\n",
       "      <td>2.29195</td>\n",
       "      <td>-355.613</td>\n",
       "      <td>-9.93990</td>\n",
       "      <td>-1.92920</td>\n",
       "    </tr>\n",
       "    <tr>\n",
       "      <td>3</td>\n",
       "      <td>2014-01-06</td>\n",
       "      <td>23:05:03.929</td>\n",
       "      <td>25.7435</td>\n",
       "      <td>3.35158</td>\n",
       "      <td>-350.633</td>\n",
       "      <td>-2.53247</td>\n",
       "      <td>8.26825</td>\n",
       "    </tr>\n",
       "    <tr>\n",
       "      <td>4</td>\n",
       "      <td>2014-01-06</td>\n",
       "      <td>23:06:45.492</td>\n",
       "      <td>24.9569</td>\n",
       "      <td>3.35078</td>\n",
       "      <td>-349.200</td>\n",
       "      <td>2.78117</td>\n",
       "      <td>7.61097</td>\n",
       "    </tr>\n",
       "    <tr>\n",
       "      <td>...</td>\n",
       "      <td>...</td>\n",
       "      <td>...</td>\n",
       "      <td>...</td>\n",
       "      <td>...</td>\n",
       "      <td>...</td>\n",
       "      <td>...</td>\n",
       "      <td>...</td>\n",
       "    </tr>\n",
       "    <tr>\n",
       "      <td>837</td>\n",
       "      <td>2014-01-07</td>\n",
       "      <td>22:02:44.296</td>\n",
       "      <td>28.1126</td>\n",
       "      <td>15.50850</td>\n",
       "      <td>-379.718</td>\n",
       "      <td>-22.31510</td>\n",
       "      <td>7.57720</td>\n",
       "    </tr>\n",
       "    <tr>\n",
       "      <td>838</td>\n",
       "      <td>2014-01-07</td>\n",
       "      <td>22:04:25.859</td>\n",
       "      <td>27.8450</td>\n",
       "      <td>15.24710</td>\n",
       "      <td>-380.348</td>\n",
       "      <td>-22.62340</td>\n",
       "      <td>8.25306</td>\n",
       "    </tr>\n",
       "    <tr>\n",
       "      <td>839</td>\n",
       "      <td>2014-01-07</td>\n",
       "      <td>22:06:04.351</td>\n",
       "      <td>27.0086</td>\n",
       "      <td>17.95350</td>\n",
       "      <td>-380.855</td>\n",
       "      <td>-22.59790</td>\n",
       "      <td>6.82623</td>\n",
       "    </tr>\n",
       "    <tr>\n",
       "      <td>840</td>\n",
       "      <td>2014-01-07</td>\n",
       "      <td>22:07:41.156</td>\n",
       "      <td>25.9620</td>\n",
       "      <td>15.29030</td>\n",
       "      <td>-381.893</td>\n",
       "      <td>-23.98200</td>\n",
       "      <td>7.59601</td>\n",
       "    </tr>\n",
       "    <tr>\n",
       "      <td>841</td>\n",
       "      <td>2014-01-07</td>\n",
       "      <td>22:09:17.382</td>\n",
       "      <td>27.7982</td>\n",
       "      <td>17.92900</td>\n",
       "      <td>-380.551</td>\n",
       "      <td>-19.89580</td>\n",
       "      <td>21.44150</td>\n",
       "    </tr>\n",
       "  </tbody>\n",
       "</table>\n",
       "<p>842 rows × 7 columns</p>\n",
       "</div>"
      ],
      "text/plain": [
       "          DATE          TIME   SW_VTH    ION_NP  VX_(GSM)  VY_(GSM)  VZ_(GSM)\n",
       "0   2014-01-06  23:00:14.484  30.0924   4.28709  -355.936  -6.42950  11.28900\n",
       "1   2014-01-06  23:01:51.578  27.1823   3.19790  -370.943 -16.14380  -7.73532\n",
       "2   2014-01-06  23:03:19.289  20.4928   2.29195  -355.613  -9.93990  -1.92920\n",
       "3   2014-01-06  23:05:03.929  25.7435   3.35158  -350.633  -2.53247   8.26825\n",
       "4   2014-01-06  23:06:45.492  24.9569   3.35078  -349.200   2.78117   7.61097\n",
       "..         ...           ...      ...       ...       ...       ...       ...\n",
       "837 2014-01-07  22:02:44.296  28.1126  15.50850  -379.718 -22.31510   7.57720\n",
       "838 2014-01-07  22:04:25.859  27.8450  15.24710  -380.348 -22.62340   8.25306\n",
       "839 2014-01-07  22:06:04.351  27.0086  17.95350  -380.855 -22.59790   6.82623\n",
       "840 2014-01-07  22:07:41.156  25.9620  15.29030  -381.893 -23.98200   7.59601\n",
       "841 2014-01-07  22:09:17.382  27.7982  17.92900  -380.551 -19.89580  21.44150\n",
       "\n",
       "[842 rows x 7 columns]"
      ]
     },
     "execution_count": 3,
     "metadata": {},
     "output_type": "execute_result"
    }
   ],
   "source": [
    "solar = pd.read_excel('data/solar.xlsx') # Solar Wind Data, Velocities are in km/sec, ION_NP is in cm^3 from CDAWEB\n",
    "solar.head(-30)"
   ]
  },
  {
   "cell_type": "code",
   "execution_count": 4,
   "metadata": {
    "scrolled": true
   },
   "outputs": [
    {
     "data": {
      "text/html": [
       "<div>\n",
       "<style scoped>\n",
       "    .dataframe tbody tr th:only-of-type {\n",
       "        vertical-align: middle;\n",
       "    }\n",
       "\n",
       "    .dataframe tbody tr th {\n",
       "        vertical-align: top;\n",
       "    }\n",
       "\n",
       "    .dataframe thead th {\n",
       "        text-align: right;\n",
       "    }\n",
       "</style>\n",
       "<table border=\"1\" class=\"dataframe\">\n",
       "  <thead>\n",
       "    <tr style=\"text-align: right;\">\n",
       "      <th></th>\n",
       "      <th>DATE</th>\n",
       "      <th>TIME</th>\n",
       "      <th>DOY</th>\n",
       "      <th>DST</th>\n",
       "    </tr>\n",
       "  </thead>\n",
       "  <tbody>\n",
       "    <tr>\n",
       "      <td>0</td>\n",
       "      <td>2014-01-07</td>\n",
       "      <td>00:00:00.000</td>\n",
       "      <td>7</td>\n",
       "      <td>-10</td>\n",
       "    </tr>\n",
       "    <tr>\n",
       "      <td>1</td>\n",
       "      <td>2014-01-07</td>\n",
       "      <td>01:00:00.000</td>\n",
       "      <td>7</td>\n",
       "      <td>-8</td>\n",
       "    </tr>\n",
       "    <tr>\n",
       "      <td>2</td>\n",
       "      <td>2014-01-07</td>\n",
       "      <td>02:00:00.000</td>\n",
       "      <td>7</td>\n",
       "      <td>-7</td>\n",
       "    </tr>\n",
       "    <tr>\n",
       "      <td>3</td>\n",
       "      <td>2014-01-07</td>\n",
       "      <td>03:00:00.000</td>\n",
       "      <td>7</td>\n",
       "      <td>-10</td>\n",
       "    </tr>\n",
       "    <tr>\n",
       "      <td>4</td>\n",
       "      <td>2014-01-07</td>\n",
       "      <td>04:00:00.000</td>\n",
       "      <td>7</td>\n",
       "      <td>-10</td>\n",
       "    </tr>\n",
       "    <tr>\n",
       "      <td>5</td>\n",
       "      <td>2014-01-07</td>\n",
       "      <td>05:00:00.000</td>\n",
       "      <td>7</td>\n",
       "      <td>-6</td>\n",
       "    </tr>\n",
       "    <tr>\n",
       "      <td>6</td>\n",
       "      <td>2014-01-07</td>\n",
       "      <td>06:00:00.000</td>\n",
       "      <td>7</td>\n",
       "      <td>-6</td>\n",
       "    </tr>\n",
       "    <tr>\n",
       "      <td>7</td>\n",
       "      <td>2014-01-07</td>\n",
       "      <td>07:00:00.000</td>\n",
       "      <td>7</td>\n",
       "      <td>-9</td>\n",
       "    </tr>\n",
       "    <tr>\n",
       "      <td>8</td>\n",
       "      <td>2014-01-07</td>\n",
       "      <td>08:00:00.000</td>\n",
       "      <td>7</td>\n",
       "      <td>-10</td>\n",
       "    </tr>\n",
       "    <tr>\n",
       "      <td>9</td>\n",
       "      <td>2014-01-07</td>\n",
       "      <td>09:00:00.000</td>\n",
       "      <td>7</td>\n",
       "      <td>-10</td>\n",
       "    </tr>\n",
       "    <tr>\n",
       "      <td>10</td>\n",
       "      <td>2014-01-07</td>\n",
       "      <td>10:00:00.000</td>\n",
       "      <td>7</td>\n",
       "      <td>-11</td>\n",
       "    </tr>\n",
       "    <tr>\n",
       "      <td>11</td>\n",
       "      <td>2014-01-07</td>\n",
       "      <td>11:00:00.000</td>\n",
       "      <td>7</td>\n",
       "      <td>-9</td>\n",
       "    </tr>\n",
       "    <tr>\n",
       "      <td>12</td>\n",
       "      <td>2014-01-07</td>\n",
       "      <td>12:00:00.000</td>\n",
       "      <td>7</td>\n",
       "      <td>-9</td>\n",
       "    </tr>\n",
       "    <tr>\n",
       "      <td>13</td>\n",
       "      <td>2014-01-07</td>\n",
       "      <td>13:00:00.000</td>\n",
       "      <td>7</td>\n",
       "      <td>-12</td>\n",
       "    </tr>\n",
       "    <tr>\n",
       "      <td>14</td>\n",
       "      <td>2014-01-07</td>\n",
       "      <td>14:00:00.000</td>\n",
       "      <td>7</td>\n",
       "      <td>-10</td>\n",
       "    </tr>\n",
       "    <tr>\n",
       "      <td>15</td>\n",
       "      <td>2014-01-07</td>\n",
       "      <td>15:00:00.000</td>\n",
       "      <td>7</td>\n",
       "      <td>-2</td>\n",
       "    </tr>\n",
       "    <tr>\n",
       "      <td>16</td>\n",
       "      <td>2014-01-07</td>\n",
       "      <td>16:00:00.000</td>\n",
       "      <td>7</td>\n",
       "      <td>-2</td>\n",
       "    </tr>\n",
       "    <tr>\n",
       "      <td>17</td>\n",
       "      <td>2014-01-07</td>\n",
       "      <td>17:00:00.000</td>\n",
       "      <td>7</td>\n",
       "      <td>-8</td>\n",
       "    </tr>\n",
       "    <tr>\n",
       "      <td>18</td>\n",
       "      <td>2014-01-07</td>\n",
       "      <td>18:00:00.000</td>\n",
       "      <td>7</td>\n",
       "      <td>-9</td>\n",
       "    </tr>\n",
       "    <tr>\n",
       "      <td>19</td>\n",
       "      <td>2014-01-07</td>\n",
       "      <td>19:00:00.000</td>\n",
       "      <td>7</td>\n",
       "      <td>-3</td>\n",
       "    </tr>\n",
       "    <tr>\n",
       "      <td>20</td>\n",
       "      <td>2014-01-07</td>\n",
       "      <td>20:00:00.000</td>\n",
       "      <td>7</td>\n",
       "      <td>-1</td>\n",
       "    </tr>\n",
       "    <tr>\n",
       "      <td>21</td>\n",
       "      <td>2014-01-07</td>\n",
       "      <td>21:00:00.000</td>\n",
       "      <td>7</td>\n",
       "      <td>0</td>\n",
       "    </tr>\n",
       "    <tr>\n",
       "      <td>22</td>\n",
       "      <td>2014-01-07</td>\n",
       "      <td>22:00:00.000</td>\n",
       "      <td>7</td>\n",
       "      <td>4</td>\n",
       "    </tr>\n",
       "    <tr>\n",
       "      <td>23</td>\n",
       "      <td>2014-01-07</td>\n",
       "      <td>23:00:00.000</td>\n",
       "      <td>7</td>\n",
       "      <td>2</td>\n",
       "    </tr>\n",
       "  </tbody>\n",
       "</table>\n",
       "</div>"
      ],
      "text/plain": [
       "         DATE          TIME  DOY  DST\n",
       "0  2014-01-07  00:00:00.000    7  -10\n",
       "1  2014-01-07  01:00:00.000    7   -8\n",
       "2  2014-01-07  02:00:00.000    7   -7\n",
       "3  2014-01-07  03:00:00.000    7  -10\n",
       "4  2014-01-07  04:00:00.000    7  -10\n",
       "5  2014-01-07  05:00:00.000    7   -6\n",
       "6  2014-01-07  06:00:00.000    7   -6\n",
       "7  2014-01-07  07:00:00.000    7   -9\n",
       "8  2014-01-07  08:00:00.000    7  -10\n",
       "9  2014-01-07  09:00:00.000    7  -10\n",
       "10 2014-01-07  10:00:00.000    7  -11\n",
       "11 2014-01-07  11:00:00.000    7   -9\n",
       "12 2014-01-07  12:00:00.000    7   -9\n",
       "13 2014-01-07  13:00:00.000    7  -12\n",
       "14 2014-01-07  14:00:00.000    7  -10\n",
       "15 2014-01-07  15:00:00.000    7   -2\n",
       "16 2014-01-07  16:00:00.000    7   -2\n",
       "17 2014-01-07  17:00:00.000    7   -8\n",
       "18 2014-01-07  18:00:00.000    7   -9\n",
       "19 2014-01-07  19:00:00.000    7   -3\n",
       "20 2014-01-07  20:00:00.000    7   -1\n",
       "21 2014-01-07  21:00:00.000    7    0\n",
       "22 2014-01-07  22:00:00.000    7    4\n",
       "23 2014-01-07  23:00:00.000    7    2"
      ]
     },
     "execution_count": 4,
     "metadata": {},
     "output_type": "execute_result"
    }
   ],
   "source": [
    "dst = pd.read_excel('data/dst.xlsx')\n",
    "dst"
   ]
  },
  {
   "cell_type": "code",
   "execution_count": 5,
   "metadata": {
    "scrolled": true
   },
   "outputs": [
    {
     "data": {
      "text/html": [
       "<div>\n",
       "<style scoped>\n",
       "    .dataframe tbody tr th:only-of-type {\n",
       "        vertical-align: middle;\n",
       "    }\n",
       "\n",
       "    .dataframe tbody tr th {\n",
       "        vertical-align: top;\n",
       "    }\n",
       "\n",
       "    .dataframe thead th {\n",
       "        text-align: right;\n",
       "    }\n",
       "</style>\n",
       "<table border=\"1\" class=\"dataframe\">\n",
       "  <thead>\n",
       "    <tr style=\"text-align: right;\">\n",
       "      <th></th>\n",
       "      <th>DATE</th>\n",
       "      <th>TIME</th>\n",
       "      <th>DOY</th>\n",
       "      <th>AE</th>\n",
       "      <th>AU</th>\n",
       "      <th>AL</th>\n",
       "      <th>AO</th>\n",
       "    </tr>\n",
       "  </thead>\n",
       "  <tbody>\n",
       "    <tr>\n",
       "      <td>0</td>\n",
       "      <td>2014-01-07</td>\n",
       "      <td>00:00:00.000</td>\n",
       "      <td>7</td>\n",
       "      <td>24</td>\n",
       "      <td>16</td>\n",
       "      <td>-8</td>\n",
       "      <td>4</td>\n",
       "    </tr>\n",
       "    <tr>\n",
       "      <td>1</td>\n",
       "      <td>2014-01-07</td>\n",
       "      <td>00:01:00.000</td>\n",
       "      <td>7</td>\n",
       "      <td>26</td>\n",
       "      <td>17</td>\n",
       "      <td>-9</td>\n",
       "      <td>4</td>\n",
       "    </tr>\n",
       "    <tr>\n",
       "      <td>2</td>\n",
       "      <td>2014-01-07</td>\n",
       "      <td>00:02:00.000</td>\n",
       "      <td>7</td>\n",
       "      <td>29</td>\n",
       "      <td>19</td>\n",
       "      <td>-10</td>\n",
       "      <td>5</td>\n",
       "    </tr>\n",
       "    <tr>\n",
       "      <td>3</td>\n",
       "      <td>2014-01-07</td>\n",
       "      <td>00:03:00.000</td>\n",
       "      <td>7</td>\n",
       "      <td>29</td>\n",
       "      <td>19</td>\n",
       "      <td>-10</td>\n",
       "      <td>5</td>\n",
       "    </tr>\n",
       "    <tr>\n",
       "      <td>4</td>\n",
       "      <td>2014-01-07</td>\n",
       "      <td>00:04:00.000</td>\n",
       "      <td>7</td>\n",
       "      <td>26</td>\n",
       "      <td>16</td>\n",
       "      <td>-10</td>\n",
       "      <td>3</td>\n",
       "    </tr>\n",
       "    <tr>\n",
       "      <td>...</td>\n",
       "      <td>...</td>\n",
       "      <td>...</td>\n",
       "      <td>...</td>\n",
       "      <td>...</td>\n",
       "      <td>...</td>\n",
       "      <td>...</td>\n",
       "      <td>...</td>\n",
       "    </tr>\n",
       "    <tr>\n",
       "      <td>1376</td>\n",
       "      <td>2014-01-07</td>\n",
       "      <td>22:56:00.000</td>\n",
       "      <td>7</td>\n",
       "      <td>373</td>\n",
       "      <td>107</td>\n",
       "      <td>-266</td>\n",
       "      <td>-80</td>\n",
       "    </tr>\n",
       "    <tr>\n",
       "      <td>1377</td>\n",
       "      <td>2014-01-07</td>\n",
       "      <td>22:57:00.000</td>\n",
       "      <td>7</td>\n",
       "      <td>342</td>\n",
       "      <td>99</td>\n",
       "      <td>-243</td>\n",
       "      <td>-72</td>\n",
       "    </tr>\n",
       "    <tr>\n",
       "      <td>1378</td>\n",
       "      <td>2014-01-07</td>\n",
       "      <td>22:58:00.000</td>\n",
       "      <td>7</td>\n",
       "      <td>338</td>\n",
       "      <td>103</td>\n",
       "      <td>-235</td>\n",
       "      <td>-66</td>\n",
       "    </tr>\n",
       "    <tr>\n",
       "      <td>1379</td>\n",
       "      <td>2014-01-07</td>\n",
       "      <td>22:59:00.000</td>\n",
       "      <td>7</td>\n",
       "      <td>361</td>\n",
       "      <td>106</td>\n",
       "      <td>-255</td>\n",
       "      <td>-75</td>\n",
       "    </tr>\n",
       "    <tr>\n",
       "      <td>1380</td>\n",
       "      <td>2014-01-07</td>\n",
       "      <td>23:00:00.000</td>\n",
       "      <td>7</td>\n",
       "      <td>374</td>\n",
       "      <td>112</td>\n",
       "      <td>-262</td>\n",
       "      <td>-75</td>\n",
       "    </tr>\n",
       "  </tbody>\n",
       "</table>\n",
       "<p>1381 rows × 7 columns</p>\n",
       "</div>"
      ],
      "text/plain": [
       "           DATE          TIME  DOY   AE   AU   AL  AO     \n",
       "0    2014-01-07  00:00:00.000    7   24   16   -8        4\n",
       "1    2014-01-07  00:01:00.000    7   26   17   -9        4\n",
       "2    2014-01-07  00:02:00.000    7   29   19  -10        5\n",
       "3    2014-01-07  00:03:00.000    7   29   19  -10        5\n",
       "4    2014-01-07  00:04:00.000    7   26   16  -10        3\n",
       "...         ...           ...  ...  ...  ...  ...      ...\n",
       "1376 2014-01-07  22:56:00.000    7  373  107 -266      -80\n",
       "1377 2014-01-07  22:57:00.000    7  342   99 -243      -72\n",
       "1378 2014-01-07  22:58:00.000    7  338  103 -235      -66\n",
       "1379 2014-01-07  22:59:00.000    7  361  106 -255      -75\n",
       "1380 2014-01-07  23:00:00.000    7  374  112 -262      -75\n",
       "\n",
       "[1381 rows x 7 columns]"
      ]
     },
     "execution_count": 5,
     "metadata": {},
     "output_type": "execute_result"
    }
   ],
   "source": [
    "ae = pd.read_excel('data/ae.xlsx')\n",
    "ae"
   ]
  },
  {
   "cell_type": "code",
   "execution_count": 6,
   "metadata": {
    "scrolled": true
   },
   "outputs": [
    {
     "data": {
      "text/html": [
       "<div>\n",
       "<style scoped>\n",
       "    .dataframe tbody tr th:only-of-type {\n",
       "        vertical-align: middle;\n",
       "    }\n",
       "\n",
       "    .dataframe tbody tr th {\n",
       "        vertical-align: top;\n",
       "    }\n",
       "\n",
       "    .dataframe thead th {\n",
       "        text-align: right;\n",
       "    }\n",
       "</style>\n",
       "<table border=\"1\" class=\"dataframe\">\n",
       "  <thead>\n",
       "    <tr style=\"text-align: right;\">\n",
       "      <th></th>\n",
       "      <th>DATE</th>\n",
       "      <th>TIME</th>\n",
       "      <th>KP</th>\n",
       "    </tr>\n",
       "  </thead>\n",
       "  <tbody>\n",
       "    <tr>\n",
       "      <td>0</td>\n",
       "      <td>2014-01-07</td>\n",
       "      <td>03:00:00.000</td>\n",
       "      <td>0.33</td>\n",
       "    </tr>\n",
       "    <tr>\n",
       "      <td>1</td>\n",
       "      <td>2014-01-07</td>\n",
       "      <td>06:00:00.000</td>\n",
       "      <td>1.67</td>\n",
       "    </tr>\n",
       "    <tr>\n",
       "      <td>2</td>\n",
       "      <td>2014-01-07</td>\n",
       "      <td>09:00:00.000</td>\n",
       "      <td>0.00</td>\n",
       "    </tr>\n",
       "    <tr>\n",
       "      <td>3</td>\n",
       "      <td>2014-01-07</td>\n",
       "      <td>12:00:00.000</td>\n",
       "      <td>0.67</td>\n",
       "    </tr>\n",
       "    <tr>\n",
       "      <td>4</td>\n",
       "      <td>2014-01-07</td>\n",
       "      <td>15:00:00.000</td>\n",
       "      <td>0.67</td>\n",
       "    </tr>\n",
       "    <tr>\n",
       "      <td>5</td>\n",
       "      <td>2014-01-07</td>\n",
       "      <td>18:00:00.000</td>\n",
       "      <td>3.33</td>\n",
       "    </tr>\n",
       "    <tr>\n",
       "      <td>6</td>\n",
       "      <td>2014-01-07</td>\n",
       "      <td>21:00:00.000</td>\n",
       "      <td>2.33</td>\n",
       "    </tr>\n",
       "    <tr>\n",
       "      <td>7</td>\n",
       "      <td>2014-01-07</td>\n",
       "      <td>24:00:00.000</td>\n",
       "      <td>2.67</td>\n",
       "    </tr>\n",
       "  </tbody>\n",
       "</table>\n",
       "</div>"
      ],
      "text/plain": [
       "        DATE          TIME    KP\n",
       "0 2014-01-07  03:00:00.000  0.33\n",
       "1 2014-01-07  06:00:00.000  1.67\n",
       "2 2014-01-07  09:00:00.000  0.00\n",
       "3 2014-01-07  12:00:00.000  0.67\n",
       "4 2014-01-07  15:00:00.000  0.67\n",
       "5 2014-01-07  18:00:00.000  3.33\n",
       "6 2014-01-07  21:00:00.000  2.33\n",
       "7 2014-01-07  24:00:00.000  2.67"
      ]
     },
     "execution_count": 6,
     "metadata": {},
     "output_type": "execute_result"
    }
   ],
   "source": [
    "kp = pd.read_excel('data/kp.xlsx')\n",
    "kp"
   ]
  },
  {
   "cell_type": "markdown",
   "metadata": {},
   "source": [
    "## Time Series Graphs"
   ]
  },
  {
   "cell_type": "markdown",
   "metadata": {},
   "source": [
    "#### Kp (nT)"
   ]
  },
  {
   "cell_type": "code",
   "execution_count": 7,
   "metadata": {
    "scrolled": false
   },
   "outputs": [
    {
     "data": {
      "text/plain": [
       "Text(0, 0.5, 'Kp (nT)')"
      ]
     },
     "execution_count": 7,
     "metadata": {},
     "output_type": "execute_result"
    },
    {
     "data": {
      "image/png": "[encoded data removed]",
      "text/plain": [
       "<Figure size 1080x360 with 1 Axes>"
      ]
     },
     "metadata": {
      "needs_background": "light"
     },
     "output_type": "display_data"
    }
   ],
   "source": [
    "fig, ax3 = plt.subplots(figsize=(15, 5))\n",
    "ax3.bar(kp['TIME'],kp['KP'],  width=0.98)\n",
    "ax3.xaxis.set_major_locator(ticker.MultipleLocator(10))\n",
    "ax3.xaxis.set_minor_locator(ticker.MultipleLocator(0.35))\n",
    "\n",
    "plt.ylabel('Kp (nT)', fontsize=16)\n"
   ]
  },
  {
   "cell_type": "markdown",
   "metadata": {},
   "source": [
    "#### Dst (nT)"
   ]
  },
  {
   "cell_type": "code",
   "execution_count": 8,
   "metadata": {
    "scrolled": false
   },
   "outputs": [
    {
     "data": {
      "text/plain": [
       "Text(0, 0.5, 'Dst (nT)')"
      ]
     },
     "execution_count": 8,
     "metadata": {},
     "output_type": "execute_result"
    },
    {
     "data": {
      "image/png": "[encoded data removed]",
      "text/plain": [
       "<Figure size 1080x360 with 1 Axes>"
      ]
     },
     "metadata": {
      "needs_background": "light"
     },
     "output_type": "display_data"
    }
   ],
   "source": [
    "plt.figure(figsize=(15,5))\n",
    "plt.plot(dst['TIME'],dst['DST'])\n",
    "plt.xticks(dst['TIME'], rotation='vertical');\n",
    "\n",
    "plt.plot(dst['TIME'],np.zeros(len(dst['DST']))) # Drawing a zero line\n",
    "\n",
    "plt.ylabel('Dst (nT)', fontsize=16)"
   ]
  },
  {
   "cell_type": "markdown",
   "metadata": {},
   "source": [
    "#### AE (nT)"
   ]
  },
  {
   "cell_type": "markdown",
   "metadata": {},
   "source": [
    "AE = AU + |AL|"
   ]
  },
  {
   "cell_type": "code",
   "execution_count": 9,
   "metadata": {
    "scrolled": false
   },
   "outputs": [
    {
     "data": {
      "text/plain": [
       "Text(0, 0.5, 'AE (nT)')"
      ]
     },
     "execution_count": 9,
     "metadata": {},
     "output_type": "execute_result"
    },
    {
     "data": {
      "image/png": "[encoded data removed]",
      "text/plain": [
       "<Figure size 1080x360 with 1 Axes>"
      ]
     },
     "metadata": {
      "needs_background": "light"
     },
     "output_type": "display_data"
    }
   ],
   "source": [
    "plt.figure(figsize=(15,5))\n",
    "plt.plot(ae['TIME'][::10],ae['AE'][::10])\n",
    "\n",
    "plt.xticks(ae['TIME'][::60], rotation='vertical');\n",
    "\n",
    "plt.ylabel('AE (nT)', fontsize=16)"
   ]
  },
  {
   "cell_type": "markdown",
   "metadata": {},
   "source": [
    "#### IMF $B_{Total}$"
   ]
  },
  {
   "cell_type": "code",
   "execution_count": 10,
   "metadata": {
    "scrolled": false
   },
   "outputs": [
    {
     "data": {
      "text/plain": [
       "Text(0, 0.5, 'IMF $B_{Total}$ (nT)')"
      ]
     },
     "execution_count": 10,
     "metadata": {},
     "output_type": "execute_result"
    },
    {
     "data": {
      "image/png": "[encoded data removed]",
      "text/plain": [
       "<Figure size 1080x360 with 1 Axes>"
      ]
     },
     "metadata": {
      "needs_background": "light"
     },
     "output_type": "display_data"
    }
   ],
   "source": [
    "plt.figure(figsize=(15,5))\n",
    "plt.plot(magnetic['TIME'][:1380:10],(magnetic['B'][:1380:10]))\n",
    "\n",
    "plt.xticks(magnetic['TIME'][::60], rotation='vertical');\n",
    "\n",
    "plt.ylabel('IMF $B_{Total}$ (nT)', fontsize=16)"
   ]
  },
  {
   "cell_type": "markdown",
   "metadata": {},
   "source": [
    "#### IMF $B_z$"
   ]
  },
  {
   "cell_type": "code",
   "execution_count": 11,
   "metadata": {
    "scrolled": false
   },
   "outputs": [
    {
     "data": {
      "text/plain": [
       "Text(0, 0.5, 'IMF $B_Z$ (nT)')"
      ]
     },
     "execution_count": 11,
     "metadata": {},
     "output_type": "execute_result"
    },
    {
     "data": {
      "image/png": "[encoded data removed]",
      "text/plain": [
       "<Figure size 1080x360 with 1 Axes>"
      ]
     },
     "metadata": {
      "needs_background": "light"
     },
     "output_type": "display_data"
    }
   ],
   "source": [
    "plt.figure(figsize=(15,5))\n",
    "plt.plot(magnetic['TIME'][:1380:10],(magnetic['BZ'][:1380:10]))\n",
    "\n",
    "plt.xticks(magnetic['TIME'][::60], rotation='vertical');\n",
    "\n",
    "plt.plot(magnetic['TIME'][::60],np.zeros(len(magnetic['TIME'][::60]))) # Drawing a zero line\n",
    "\n",
    "plt.ylabel('IMF $B_Z$ (nT)', fontsize=16)"
   ]
  },
  {
   "cell_type": "markdown",
   "metadata": {},
   "source": [
    "### $P_{dyn}$"
   ]
  },
  {
   "cell_type": "markdown",
   "metadata": {},
   "source": [
    "$P_{dyn}=2nm_pV^2$"
   ]
  },
  {
   "cell_type": "code",
   "execution_count": 12,
   "metadata": {},
   "outputs": [
    {
     "data": {
      "text/plain": [
       "1.68e-27"
      ]
     },
     "execution_count": 12,
     "metadata": {},
     "output_type": "execute_result"
    }
   ],
   "source": [
    "mp = 1.68*10**(-27) # Proton mass\n",
    "mp"
   ]
  },
  {
   "cell_type": "code",
   "execution_count": 13,
   "metadata": {
    "scrolled": false
   },
   "outputs": [
    {
     "data": {
      "text/plain": [
       "0      356173.014260\n",
       "1      371374.698523\n",
       "2      355757.121072\n",
       "3      350739.615743\n",
       "4      349294.004774\n",
       "           ...      \n",
       "867    373681.163783\n",
       "868    372793.887272\n",
       "869    371811.592609\n",
       "870    372217.455719\n",
       "871    371568.996633\n",
       "Length: 872, dtype: float64"
      ]
     },
     "execution_count": 13,
     "metadata": {},
     "output_type": "execute_result"
    }
   ],
   "source": [
    "vtotal = (solar['VX_(GSM)']**2+solar['VY_(GSM)']**2+solar['VZ_(GSM)']**2)**(1/2) # Calculating V_total\n",
    "vtotal = vtotal*10**3 # km/sec to m/sec\n",
    "vtotal"
   ]
  },
  {
   "cell_type": "code",
   "execution_count": 14,
   "metadata": {},
   "outputs": [],
   "source": [
    "n_ion = solar['ION_NP']*10**6 #cm^3 to m^3"
   ]
  },
  {
   "cell_type": "code",
   "execution_count": 15,
   "metadata": {
    "scrolled": true
   },
   "outputs": [
    {
     "data": {
      "text/plain": [
       "0      1.827359\n",
       "1      1.481934\n",
       "2      0.974657\n",
       "3      1.385347\n",
       "4      1.373623\n",
       "         ...   \n",
       "867    7.023613\n",
       "868    7.799022\n",
       "869    6.840171\n",
       "870    6.772298\n",
       "871    6.721166\n",
       "Length: 872, dtype: float64"
      ]
     },
     "execution_count": 15,
     "metadata": {},
     "output_type": "execute_result"
    }
   ],
   "source": [
    "pdyn = (2*n_ion*mp*vtotal**2)*10**9 # P_dyn in nPa\n",
    "pdyn"
   ]
  },
  {
   "cell_type": "code",
   "execution_count": 16,
   "metadata": {
    "scrolled": true
   },
   "outputs": [
    {
     "data": {
      "image/png": "[encoded data removed]",
      "text/plain": [
       "<Figure size 1080x360 with 1 Axes>"
      ]
     },
     "metadata": {
      "needs_background": "light"
     },
     "output_type": "display_data"
    }
   ],
   "source": [
    "plt.figure(figsize=(15,5))\n",
    "plt.plot(solar['TIME'][:840:10], pdyn[:840:10])\n",
    "\n",
    "plt.xticks(solar['TIME'][:840:30], rotation='vertical')\n",
    "plt.ylabel('$P_{dyn}$ (nPa)', fontsize=16)\n",
    "plt.show()\n",
    "\n"
   ]
  },
  {
   "cell_type": "markdown",
   "metadata": {},
   "source": [
    "### Statistics Table"
   ]
  },
  {
   "cell_type": "code",
   "execution_count": 17,
   "metadata": {
    "scrolled": false
   },
   "outputs": [
    {
     "data": {
      "text/html": [
       "<div>\n",
       "<style scoped>\n",
       "    .dataframe tbody tr th:only-of-type {\n",
       "        vertical-align: middle;\n",
       "    }\n",
       "\n",
       "    .dataframe tbody tr th {\n",
       "        vertical-align: top;\n",
       "    }\n",
       "\n",
       "    .dataframe thead th {\n",
       "        text-align: right;\n",
       "    }\n",
       "</style>\n",
       "<table border=\"1\" class=\"dataframe\">\n",
       "  <thead>\n",
       "    <tr style=\"text-align: right;\">\n",
       "      <th></th>\n",
       "      <th>mean</th>\n",
       "      <th>median</th>\n",
       "      <th>max</th>\n",
       "      <th>min</th>\n",
       "    </tr>\n",
       "  </thead>\n",
       "  <tbody>\n",
       "    <tr>\n",
       "      <td>DST</td>\n",
       "      <td>-6.500000</td>\n",
       "      <td>-8.500000</td>\n",
       "      <td>4.000000</td>\n",
       "      <td>-12.000000</td>\n",
       "    </tr>\n",
       "    <tr>\n",
       "      <td>AE</td>\n",
       "      <td>144.075308</td>\n",
       "      <td>90.000000</td>\n",
       "      <td>644.000000</td>\n",
       "      <td>14.000000</td>\n",
       "    </tr>\n",
       "    <tr>\n",
       "      <td>Kp</td>\n",
       "      <td>1.458750</td>\n",
       "      <td>1.170000</td>\n",
       "      <td>3.330000</td>\n",
       "      <td>0.000000</td>\n",
       "    </tr>\n",
       "    <tr>\n",
       "      <td>BZ&lt;0</td>\n",
       "      <td>-2.275769</td>\n",
       "      <td>-2.096635</td>\n",
       "      <td>-0.008520</td>\n",
       "      <td>-8.168290</td>\n",
       "    </tr>\n",
       "    <tr>\n",
       "      <td>BZ&gt;0</td>\n",
       "      <td>0.891172</td>\n",
       "      <td>0.671586</td>\n",
       "      <td>3.054070</td>\n",
       "      <td>0.026908</td>\n",
       "    </tr>\n",
       "    <tr>\n",
       "      <td>Pdyn</td>\n",
       "      <td>3.298349</td>\n",
       "      <td>1.410407</td>\n",
       "      <td>9.593593</td>\n",
       "      <td>0.963980</td>\n",
       "    </tr>\n",
       "  </tbody>\n",
       "</table>\n",
       "</div>"
      ],
      "text/plain": [
       "            mean     median         max        min\n",
       "DST    -6.500000  -8.500000    4.000000 -12.000000\n",
       "AE    144.075308  90.000000  644.000000  14.000000\n",
       "Kp      1.458750   1.170000    3.330000   0.000000\n",
       "BZ<0   -2.275769  -2.096635   -0.008520  -8.168290\n",
       "BZ>0    0.891172   0.671586    3.054070   0.026908\n",
       "Pdyn    3.298349   1.410407    9.593593   0.963980"
      ]
     },
     "execution_count": 17,
     "metadata": {},
     "output_type": "execute_result"
    }
   ],
   "source": [
    "statistic = pd.DataFrame(dst['DST'].agg(['mean', 'median', 'max', 'min']))\n",
    "statistic['AE'] = ae['AE'].agg(['mean', 'median', 'max', 'min'])\n",
    "statistic['Kp'] = kp['KP'].agg(['mean', 'median', 'max', 'min'])\n",
    "\n",
    "filt1 = (magnetic['BZ']<0) # Filtering the negative values of BZ\n",
    "statistic['BZ<0'] = magnetic.loc[filt1,'BZ'].agg(['mean', 'median', 'max', 'min'])\n",
    "\n",
    "filt2 = (magnetic['BZ']>0) #Filtering the positive values of Bz\n",
    "statistic['BZ>0'] = magnetic.loc[filt2,'BZ'].agg(['mean', 'median', 'max', 'min'])\n",
    "\n",
    "statistic['Pdyn']= pdyn.agg(['mean', 'median', 'max', 'min'])\n",
    "\n",
    "statistic.T"
   ]
  },
  {
   "cell_type": "code",
   "execution_count": 18,
   "metadata": {
    "scrolled": true
   },
   "outputs": [
    {
     "data": {
      "text/html": [
       "<div>\n",
       "<style scoped>\n",
       "    .dataframe tbody tr th:only-of-type {\n",
       "        vertical-align: middle;\n",
       "    }\n",
       "\n",
       "    .dataframe tbody tr th {\n",
       "        vertical-align: top;\n",
       "    }\n",
       "\n",
       "    .dataframe thead th {\n",
       "        text-align: right;\n",
       "    }\n",
       "</style>\n",
       "<table border=\"1\" class=\"dataframe\">\n",
       "  <thead>\n",
       "    <tr style=\"text-align: right;\">\n",
       "      <th></th>\n",
       "      <th>max</th>\n",
       "      <th>min</th>\n",
       "    </tr>\n",
       "  </thead>\n",
       "  <tbody>\n",
       "    <tr>\n",
       "      <td>DST</td>\n",
       "      <td>4.000000</td>\n",
       "      <td>-12.00000</td>\n",
       "    </tr>\n",
       "    <tr>\n",
       "      <td>AE</td>\n",
       "      <td>644.000000</td>\n",
       "      <td>14.00000</td>\n",
       "    </tr>\n",
       "    <tr>\n",
       "      <td>Kp</td>\n",
       "      <td>3.330000</td>\n",
       "      <td>0.00000</td>\n",
       "    </tr>\n",
       "    <tr>\n",
       "      <td>IMF Bz</td>\n",
       "      <td>3.054070</td>\n",
       "      <td>-8.16829</td>\n",
       "    </tr>\n",
       "    <tr>\n",
       "      <td>Pdyn</td>\n",
       "      <td>9.593593</td>\n",
       "      <td>0.96398</td>\n",
       "    </tr>\n",
       "  </tbody>\n",
       "</table>\n",
       "</div>"
      ],
      "text/plain": [
       "               max       min\n",
       "DST       4.000000 -12.00000\n",
       "AE      644.000000  14.00000\n",
       "Kp        3.330000   0.00000\n",
       "IMF Bz    3.054070  -8.16829\n",
       "Pdyn      9.593593   0.96398"
      ]
     },
     "execution_count": 18,
     "metadata": {},
     "output_type": "execute_result"
    }
   ],
   "source": [
    "statistic2 = pd.DataFrame(dst['DST'].agg(['max', 'min']))\n",
    "statistic2['AE'] = ae['AE'].agg(['max', 'min'])\n",
    "statistic2['Kp'] = kp['KP'].agg(['max', 'min'])\n",
    "statistic2['IMF Bz'] = magnetic['BZ'].agg(['max', 'min'])\n",
    "statistic2['Pdyn']= pdyn.agg(['max', 'min'])\n",
    "statistic2.T"
   ]
  }
 ],
 "metadata": {
  "kernelspec": {
   "display_name": "Python 3",
   "language": "python",
   "name": "python3"
  },
  "language_info": {
   "codemirror_mode": {
    "name": "ipython",
    "version": 3
   },
   "file_extension": ".py",
   "mimetype": "text/x-python",
   "name": "python",
   "nbconvert_exporter": "python",
   "pygments_lexer": "ipython3",
   "version": "3.7.4"
  }
 },
 "nbformat": 4,
 "nbformat_minor": 2
}
